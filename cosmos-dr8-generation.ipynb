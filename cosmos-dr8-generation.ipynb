{
 "cells": [
  {
   "cell_type": "code",
   "execution_count": 81,
   "metadata": {},
   "outputs": [
    {
     "name": "stdout",
     "output_type": "stream",
     "text": [
      "Populating the interactive namespace from numpy and matplotlib\n"
     ]
    }
   ],
   "source": [
    "#I will try to generate dr8 version of cosmos field myself\n",
    "%pylab inline\n",
    "\n",
    "import sys,os\n",
    "import numpy as np\n",
    "import matplotlib.pyplot as plt\n",
    "from pkg_resources import resource_filename\n",
    "from desiutil.log import get_logger\n",
    "from desitarget import cuts\n",
    "#import astropy.io.fits as pyfits\n",
    "import fitsio\n",
    "import healpy as hp\n",
    "\n",
    "import astropy.io.fits as fits\n",
    "from astropy.coordinates import SkyCoord\n",
    "from astropy import units as u\n",
    "from astropy.table import Table\n",
    "truth = '/global/cscratch1/sd/raichoor/desi_mcsyst/desi_mcsyst_truth.dr7.34ra38.-7dec-3.fits'\n",
    "truth = fits.getdata(truth)\n",
    "dat=truth"
   ]
  },
  {
   "cell_type": "code",
   "execution_count": 82,
   "metadata": {},
   "outputs": [
    {
     "name": "stderr",
     "output_type": "stream",
     "text": [
      "/global/common/software/desi/cori/desiconda/20180709-1.2.6-spec/conda/lib/python3.6/site-packages/ipykernel/__main__.py:1: RuntimeWarning: invalid value encountered in less\n",
      "  if __name__ == '__main__':\n",
      "/global/common/software/desi/cori/desiconda/20180709-1.2.6-spec/conda/lib/python3.6/site-packages/ipykernel/__main__.py:1: RuntimeWarning: invalid value encountered in greater\n",
      "  if __name__ == '__main__':\n"
     ]
    },
    {
     "data": {
      "text/plain": [
       "(array([    464.,    1465.,    3918.,    8857.,   21421.,   61699.,\n",
       "         141380.,  210077.,   71028.,   14057.]),\n",
       " array([ 18.00283432,  19.0025238 ,  20.00221329,  21.00190277,\n",
       "         22.00159225,  23.00128174,  24.00097122,  25.00066071,\n",
       "         26.00035019,  27.00003967,  27.99972916]),\n",
       " <a list of 10 Patch objects>)"
      ]
     },
     "execution_count": 82,
     "metadata": {},
     "output_type": "execute_result"
    },
    {
     "data": {
      "image/png": "[encoded data removed]",
      "text/plain": [
       "<matplotlib.figure.Figure at 0x2aaaf3230e10>"
      ]
     },
     "metadata": {},
     "output_type": "display_data"
    }
   ],
   "source": [
    "plt.hist(dat['g'][(dat['g']<28)&(dat['g']>18)])"
   ]
  },
  {
   "cell_type": "code",
   "execution_count": null,
   "metadata": {},
   "outputs": [
    {
     "data": {
      "text/plain": [
       "<matplotlib.colorbar.Colorbar at 0x2aaaf326d7f0>"
      ]
     },
     "execution_count": 83,
     "metadata": {},
     "output_type": "execute_result"
    }
   ],
   "source": [
    "plt.scatter(dat['ra'],dat['dec'],c=dat['galdepth_g'],s=0.5)\n",
    "plt.colorbar()"
   ]
  },
  {
   "cell_type": "code",
   "execution_count": null,
   "metadata": {},
   "outputs": [],
   "source": [
    "colorcuts_function = cuts.isELG_colors\n",
    "\n",
    "def mag2flux(mag) :\n",
    "    return 10**(-0.4*(mag-22.5))\n",
    "\n",
    "sel = (truth[\"g\"]<30)&(truth[\"r\"]<30)&(truth[\"z\"]<30)\n",
    "gflux = mag2flux(truth[\"g\"][sel])\n",
    "rflux = mag2flux(truth[\"r\"][sel])\n",
    "zflux = mag2flux(truth[\"z\"][sel])\n",
    "w1flux = np.zeros(gflux.shape)\n",
    "w2flux = np.zeros(gflux.shape)"
   ]
  },
  {
   "cell_type": "code",
   "execution_count": null,
   "metadata": {},
   "outputs": [],
   "source": [
    "sel_ELG = colorcuts_function(gflux=gflux, rflux=rflux, zflux=zflux, w1flux=w1flux, w2flux=w2flux,south=True)"
   ]
  },
  {
   "cell_type": "code",
   "execution_count": null,
   "metadata": {},
   "outputs": [],
   "source": [
    "ELG = truth[sel][sel_ELG]"
   ]
  },
  {
   "cell_type": "code",
   "execution_count": null,
   "metadata": {},
   "outputs": [],
   "source": [
    "p1=plt.hist(ELG['g'],alpha=0.5,bins=40,density=True,label='g')\n",
    "p2=plt.hist(ELG['r'],alpha=0.5,bins=40,density=True,label='r')\n",
    "p3=plt.hist(ELG['z'],alpha=0.5,bins=40,density=True,label='z')\n",
    "plt.legend()\n",
    "plt.title('truth ELG')"
   ]
  },
  {
   "cell_type": "code",
   "execution_count": null,
   "metadata": {},
   "outputs": [],
   "source": [
    "def isELG_like_colors(gflux=None, rflux=None, zflux=None, w1flux=None,\n",
    "                 w2flux=None, south=True, primary=None):\n",
    "    \"\"\"Color cuts for ELG target selection classes\n",
    "    (see, e.g., :func:`~desitarget.cuts.isELG` for parameters).\n",
    "    \"\"\"\n",
    "    lb=0.3#lb is large box south 0.3 mag larger on all selection boundries\n",
    "    if primary is None:\n",
    "        primary = np.ones_like(rflux, dtype='?')\n",
    "    elg = primary.copy()\n",
    "\n",
    "    # ADM cuts shared by the northern and southern selections.\n",
    "    elg &= gflux < 10**((22.5-21.0+lb)/2.5)          # g>21-lb\n",
    "    elg &= zflux > rflux * 10**((0.3-lb)/2.5)          # (r-z)>0.3-lb\n",
    "    elg &= zflux < rflux * 10**((1.6+lb)/2.5)          # (r-z)<1.6+lb\n",
    "\n",
    "    # ADM clip to avoid warnings from negative numbers raised to fractional powers.\n",
    "    # ADM make sure to do this after the (r-z) cuts to prevent the recovery of\n",
    "    # ADM very bright objects with strange colors.\n",
    "    rflux = rflux.clip(0)\n",
    "    zflux = zflux.clip(0)\n",
    "    elg &= zflux**1.2 < gflux * rflux**0.2 * 10**((1.6+lb)/2.5)           # (g-r)<1.6+lb-1.2(r-z)\n",
    "\n",
    "    # ADM cuts that are unique to the north or south.\n",
    "    if south:\n",
    "        elg &= gflux > 10**((22.5-23.45-lb)/2.5)                        # g<23.45+lb\n",
    "        # ADM the south has the original FDR cut to remove stars and low-z galaxies.\n",
    "        elg &= rflux**2.15 < gflux * zflux**1.15 * 10**((-0.15+lb)/2.5)   # (g-r)<1.15(r-z)-0.15+lb\n",
    "    else:\n",
    "        elg &= gflux > 10**((22.5-23.7-lb)/2.5)      # g<23.7+lb\n",
    "        elg &= rflux > 10**((22.5-23.3-lb)/2.5)      # r<23.3+lb\n",
    "        # ADM the north has a modified FDR cut to remove stars and low-z galaxies.\n",
    "        elg &= rflux**2.40 < gflux * zflux**1.40 * 10**((-0.35+lb)/2.5)   # (g-r)<1.40(r-z)-0.35+lb\n",
    "\n",
    "    return elg"
   ]
  },
  {
   "cell_type": "code",
   "execution_count": null,
   "metadata": {},
   "outputs": [],
   "source": [
    "sel_ELG_like = isELG_like_colors(gflux=gflux, rflux=rflux, zflux=zflux, w1flux=w1flux, w2flux=w2flux,south=True)\n",
    "ELG_like = truth[sel][sel_ELG_like]"
   ]
  },
  {
   "cell_type": "code",
   "execution_count": null,
   "metadata": {},
   "outputs": [],
   "source": [
    "plt.plot(ELG_like['g']-ELG_like['r'],ELG_like['r']-ELG_like['z'],'k,')\n",
    "plt.plot(ELG['g']-ELG['r'],ELG['r']-ELG['z'],'r,')\n",
    "plt.xlabel('g-r')\n",
    "plt.ylabel('r-z')"
   ]
  },
  {
   "cell_type": "code",
   "execution_count": null,
   "metadata": {},
   "outputs": [],
   "source": [
    "p2=plt.hist(ELG_like['g'],alpha=0.5,bins=30,label='ELG like')\n",
    "p1=plt.hist(ELG['g'],alpha=0.5,bins=30,label='ELG')\n",
    "plt.legend()"
   ]
  },
  {
   "cell_type": "code",
   "execution_count": null,
   "metadata": {},
   "outputs": [],
   "source": [
    "print('input efficiency rate:%.2f'%(len(ELG)/len(ELG_like)))"
   ]
  },
  {
   "cell_type": "code",
   "execution_count": null,
   "metadata": {},
   "outputs": [],
   "source": [
    "len(ELG),len(ELG_like)"
   ]
  },
  {
   "cell_type": "code",
   "execution_count": null,
   "metadata": {},
   "outputs": [],
   "source": [
    "t_ELG_like = Table(ELG_like)"
   ]
  },
  {
   "cell_type": "code",
   "execution_count": null,
   "metadata": {},
   "outputs": [],
   "source": [
    "t_ELG_like.write('/global/cscratch1/sd/huikong/obiwan_Aug/repos_for_docker/obiwan_data/dr8/seeds.fits')\n"
   ]
  },
  {
   "cell_type": "code",
   "execution_count": null,
   "metadata": {},
   "outputs": [],
   "source": []
  }
 ],
 "metadata": {
  "kernelspec": {
   "display_name": "DESI 19.2",
   "language": "python",
   "name": "desi-19.2"
  },
  "language_info": {
   "codemirror_mode": {
    "name": "ipython",
    "version": 3
   },
   "file_extension": ".py",
   "mimetype": "text/x-python",
   "name": "python",
   "nbconvert_exporter": "python",
   "pygments_lexer": "ipython3",
   "version": "3.6.6"
  }
 },
 "nbformat": 4,
 "nbformat_minor": 4
}
